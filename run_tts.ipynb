{
 "cells": [
  {
   "cell_type": "code",
   "execution_count": 6,
   "metadata": {},
   "outputs": [
    {
     "name": "stdout",
     "output_type": "stream",
     "text": [
      "Output directory 'text_to_speech_outputs' already exists.\n",
      "getting html content from https://importai.substack.com/p/import-ai-380-distributed-13bn-parameter\n",
      "HTML content saved to the variable 'html_content'.\n",
      " \n",
      "Removing unnecessary headings and links from the text using GPT-4...\n",
      " \n",
      "Expected cost of text-to-speech conversion: US$0.26\n",
      "Part 1: Length = 4096\n",
      "Part 2: Length = 4096\n",
      "Part 3: Length = 4096\n",
      "Part 4: Length = 4096\n",
      "Part 5: Length = 846\n"
     ]
    },
    {
     "name": "stderr",
     "output_type": "stream",
     "text": [
      "  0%|          | 0/5 [00:00<?, ?it/s]"
     ]
    },
    {
     "name": "stdout",
     "output_type": "stream",
     "text": [
      "converting part 1 of 5\n"
     ]
    },
    {
     "name": "stderr",
     "output_type": "stream",
     "text": [
      " 20%|██        | 1/5 [00:32<02:10, 32.63s/it]"
     ]
    },
    {
     "name": "stdout",
     "output_type": "stream",
     "text": [
      "converting part 2 of 5\n"
     ]
    },
    {
     "name": "stderr",
     "output_type": "stream",
     "text": [
      " 40%|████      | 2/5 [01:16<01:57, 39.28s/it]"
     ]
    },
    {
     "name": "stdout",
     "output_type": "stream",
     "text": [
      "converting part 3 of 5\n"
     ]
    },
    {
     "name": "stderr",
     "output_type": "stream",
     "text": [
      " 60%|██████    | 3/5 [01:49<01:13, 36.51s/it]"
     ]
    },
    {
     "name": "stdout",
     "output_type": "stream",
     "text": [
      "converting part 4 of 5\n"
     ]
    },
    {
     "name": "stderr",
     "output_type": "stream",
     "text": [
      " 80%|████████  | 4/5 [02:19<00:33, 33.88s/it]"
     ]
    },
    {
     "name": "stdout",
     "output_type": "stream",
     "text": [
      "converting part 5 of 5\n"
     ]
    },
    {
     "name": "stderr",
     "output_type": "stream",
     "text": [
      "100%|██████████| 5/5 [02:29<00:00, 29.88s/it]\n"
     ]
    },
    {
     "name": "stdout",
     "output_type": "stream",
     "text": [
      "finished saving all parts\n",
      "saved mp3s: ['text_to_speech_outputs/import_ai_380_1.mp3', 'text_to_speech_outputs/import_ai_380_2.mp3', 'text_to_speech_outputs/import_ai_380_3.mp3', 'text_to_speech_outputs/import_ai_380_4.mp3', 'text_to_speech_outputs/import_ai_380_5.mp3']\n",
      "Merging the MP3 files...\n",
      " \n",
      "MP3 files have been merged successfully!\n",
      "Intermediate MP3 files have been deleted successfully!\n"
     ]
    }
   ],
   "source": [
    "from tts import url_to_mp3 #getting the url_to_mp3 function from the tts.py file\n",
    "\n",
    "# url_to_mp3(url = \"https://betonit.ai/p/bbb-in-the-nyt\", description_for_mp3_name='bbb_in_the_nyt',delete_intermediate_files=False)\n",
    "\n",
    "# url_to_mp3(url = \"https://www.betonit.ai/p/trumps-backdoor-to-open-borders\", description_for_mp3_name='open_borders_college_degree')\n",
    "\n",
    "\n",
    "url_to_mp3(url = \"https://importai.substack.com/p/import-ai-380-distributed-13bn-parameter\", description_for_mp3_name='import_ai_380')"
   ]
  }
 ],
 "metadata": {
  "kernelspec": {
   "display_name": "tts",
   "language": "python",
   "name": "python3"
  },
  "language_info": {
   "codemirror_mode": {
    "name": "ipython",
    "version": 3
   },
   "file_extension": ".py",
   "mimetype": "text/x-python",
   "name": "python",
   "nbconvert_exporter": "python",
   "pygments_lexer": "ipython3",
   "version": "3.12.4"
  }
 },
 "nbformat": 4,
 "nbformat_minor": 2
}
